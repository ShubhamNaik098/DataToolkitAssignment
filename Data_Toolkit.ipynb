{
  "nbformat": 4,
  "nbformat_minor": 0,
  "metadata": {
    "colab": {
      "provenance": []
    },
    "kernelspec": {
      "name": "python3",
      "display_name": "Python 3"
    },
    "language_info": {
      "name": "python"
    }
  },
  "cells": [
    {
      "cell_type": "markdown",
      "source": [],
      "metadata": {
        "id": "dTwlNN68tBuA"
      }
    },
    {
      "cell_type": "markdown",
      "source": [
        "Theoratical Questions"
      ],
      "metadata": {
        "id": "d4iCR001tDJO"
      }
    },
    {
      "cell_type": "markdown",
      "source": [
        "Q1.  What is NumPy, and why is it widely used in Python?"
      ],
      "metadata": {
        "id": "28lwcSDqt16R"
      }
    },
    {
      "cell_type": "markdown",
      "source": [
        "Ans. NumPy (Numerical Python) is a powerful open-source library in Python used primarily for numerical and scientific computing. It provides support for large, multi-dimensional arrays and matrices, along with a collection of high-level mathematical functions to operate on these arrays.\n",
        "\n",
        "Why Is NumPy Widely Used?\n",
        "\n",
        "1.Performance: NumPy operations are implemented in C, making them significantly faster than pure Python loops.\n",
        "\n",
        "2.Simplicity: Provides a clean and intuitive API for numerical computing.\n",
        "\n",
        "3.Foundation for Other Libraries: Libraries like Pandas, scikit-learn, and TensorFlow are built on top of or rely heavily on NumPy."
      ],
      "metadata": {
        "id": "VEv6F8_it-Mv"
      }
    },
    {
      "cell_type": "markdown",
      "source": [
        "Q2. How does broadcasting work in NumPy?\n"
      ],
      "metadata": {
        "id": "WhhLFlpGugrn"
      }
    },
    {
      "cell_type": "markdown",
      "source": [
        "Ans. Broadcasting automatically expands the smaller array across the larger one so that they have compatible shapes for element-wise operations.\n",
        "\n",
        "\n",
        "**Basic Rules of Broadcasting:**\n",
        "\n",
        "1.If two arrays have different numbers of dimensions, the shape of the smaller array is padded with ones on the left side.\n",
        "\n",
        "2.Arrays are compatible in a dimension if:\n",
        "\n",
        "    *They are equal, or\n",
        "\n",
        "    *One of them is 1\n",
        "\n",
        "3.If the shapes are compatible, NumPy broadcasts the smaller array across the larger one so they behave as if they had the same shape."
      ],
      "metadata": {
        "id": "JKkvdgYAumcw"
      }
    },
    {
      "cell_type": "markdown",
      "source": [
        "Q3. A What is a Pandas DataFrame)"
      ],
      "metadata": {
        "id": "TtzjAXpqv8kR"
      }
    },
    {
      "cell_type": "markdown",
      "source": [
        "Ans.A Pandas DataFrame is a 2-dimensional, tabular data structure in the Python pandas library, similar to a spreadsheet or SQL table. It is one of the core data structures provided by Pandas, along with the Series (1D)."
      ],
      "metadata": {
        "id": "ffcMa2OrwCRT"
      }
    },
    {
      "cell_type": "markdown",
      "source": [
        "Q4.Explain the use of the groupby() method in Pandas."
      ],
      "metadata": {
        "id": "SuMhxpmlwMJa"
      }
    },
    {
      "cell_type": "markdown",
      "source": [
        "Ans. The groupby() method in Pandas is used to split data into groups based on some criteria, apply a function to each group independently, and then combine the results into a new structure — this is known as the “split-apply-combine” strategy."
      ],
      "metadata": {
        "id": "J1Wo38QywRb8"
      }
    },
    {
      "cell_type": "markdown",
      "source": [
        "Q5.Why is Seaborn preferred for statistical visualizations?"
      ],
      "metadata": {
        "id": "s_pFwW1-wen_"
      }
    },
    {
      "cell_type": "markdown",
      "source": [
        "Ans.Seaborn is a Python data visualization library built on top of matplotlib and closely integrated with pandas. It is preferred for statistical visualizations because it provides high-level, easy-to-use functions for drawing informative and attractive statistical graphics."
      ],
      "metadata": {
        "id": "B7kI8RPywpzO"
      }
    },
    {
      "cell_type": "markdown",
      "source": [
        "Q6.What are the differences between NumPy arrays and Python lists?"
      ],
      "metadata": {
        "id": "YrXFUqDDwrS7"
      }
    },
    {
      "cell_type": "markdown",
      "source": [
        "Ans.Use Python lists for general-purpose collections.\n",
        "\n",
        "Use NumPy arrays when working with large numerical data, needing performance, or performing mathematical operations."
      ],
      "metadata": {
        "id": "LhC6PQXSwvOW"
      }
    },
    {
      "cell_type": "markdown",
      "source": [
        "Q7. What is a heatmap, and when should it be used?"
      ],
      "metadata": {
        "id": "RigBqpTiyIh0"
      }
    },
    {
      "cell_type": "markdown",
      "source": [
        "Ans.A heatmap is a data visualization tool that uses color to represent values in a matrix or 2D grid. It's especially useful for showing the magnitude of values across two dimensions, allowing patterns, correlations, and outliers to be easily spotted at a glance."
      ],
      "metadata": {
        "id": "Oc3Qpu3XyN22"
      }
    },
    {
      "cell_type": "markdown",
      "source": [
        "Q8. What does the term “vectorized operation” mean in NumPy?"
      ],
      "metadata": {
        "id": "Mf-Tlw5sy5AX"
      }
    },
    {
      "cell_type": "markdown",
      "source": [
        "Q9. How does Matplotlib differ from Plotly?"
      ],
      "metadata": {
        "id": "cWgMjbXWy9BM"
      }
    },
    {
      "cell_type": "markdown",
      "source": [
        "Ans.Matplotlib and Plotly are both powerful Python libraries used for data visualization, but they differ in key aspects such as interactivity, ease of use, and output formats. Matplotlib is a static plotting library that is highly customizable and ideal for creating publication-quality figures, particularly in academic or scientific contexts. It allows fine control over every element of a plot but requires more code for advanced customizations. In contrast, Plotly is designed for interactive, web-based visualizations. It supports zooming, panning, tooltips, and other interactive features out of the box, making it ideal for dashboards, data exploration, and web applications. Plotly also has a simpler syntax for complex plots and integrates well with frameworks like Dash for building interactive web apps. While Matplotlib excels in static plotting and detailed customization, Plotly is preferred when interactivity and visual exploration are needed."
      ],
      "metadata": {
        "id": "g6-RW2NZzANs"
      }
    },
    {
      "cell_type": "markdown",
      "source": [
        "Q10.What is the significance of hierarchical indexing in Pandas?"
      ],
      "metadata": {
        "id": "9P2Rkkf27Sei"
      }
    },
    {
      "cell_type": "markdown",
      "source": [
        "Ans. Hierarchical indexing (also called MultiIndexing) in Pandas allows you to have multiple levels of indexing on rows or columns.\n",
        "\n",
        "1.Organizes Complex Data Clearly\n",
        "\n",
        "2.Facilitates Data Reshaping\n",
        "\n",
        "3.Supports Advanced Grouping and Aggregation\n",
        "\n",
        "4.Powerful Data Selection and Slicing"
      ],
      "metadata": {
        "id": "GfVDkzPe7U9p"
      }
    },
    {
      "cell_type": "markdown",
      "source": [
        "Q11.What is the role of Seaborn’s pairplot() function?"
      ],
      "metadata": {
        "id": "63bJfisK7lpm"
      }
    },
    {
      "cell_type": "markdown",
      "source": [
        "Ans.he pairplot() function in Seaborn is used to create a grid of scatter plots that show pairwise relationships between multiple numerical variables in a dataset. It’s a powerful tool for exploratory data analysis (EDA) because it helps you quickly visualize correlations, trends, and distributions across features."
      ],
      "metadata": {
        "id": "IbYt7FlX7sG-"
      }
    },
    {
      "cell_type": "markdown",
      "source": [
        "Q12.What is the purpose of the describe() function in Pandas?"
      ],
      "metadata": {
        "id": "FFlwBEu_7yb7"
      }
    },
    {
      "cell_type": "markdown",
      "source": [
        "Ans.The describe() function in Pandas provides a quick statistical summary of a DataFrame or Series. It’s primarily used during exploratory data analysis (EDA) to understand the central tendency, spread, and distribution of numerical (and sometimes categorical) data."
      ],
      "metadata": {
        "id": "t74SGjTx71Z9"
      }
    },
    {
      "cell_type": "markdown",
      "source": [
        "Q13.Why is handling missing data important in Pandas?"
      ],
      "metadata": {
        "id": "5QHNlDpZ8EbD"
      }
    },
    {
      "cell_type": "markdown",
      "source": [
        "Ans.Handling missing data in Pandas is crucial because unaddressed gaps in data can lead to incorrect analysis, biased results, or errors during computation. In real-world datasets, missing values are common and can occur due to data entry errors, system failures, or incomplete data collection.\n",
        "\n",
        "Why Handling Missing Data Is Important in Pandas:\n",
        "\n",
        "1.Prevents Calculation Errors\n",
        "\n",
        "2.Avoids Biased or Incomplete Analysis\n",
        "\n",
        "3.Enables Clean Visualizations\n",
        "\n",
        "4.Required for Machine Learning Models\n",
        "\n",
        "5.Improves Data Quality"
      ],
      "metadata": {
        "id": "0KuysDc68Hlw"
      }
    },
    {
      "cell_type": "markdown",
      "source": [
        "Q.14 What are the benefits of using Plotly for data visualization?"
      ],
      "metadata": {
        "id": "5s8wRl9m8eMy"
      }
    },
    {
      "cell_type": "markdown",
      "source": [
        "Ans.Using Plotly for data visualization in Python offers several key benefits, especially when working with interactive, dynamic, or web-based visualizations.\n",
        "\n",
        "1.Interactive Visualizations by Default\n",
        "\n",
        "2.Wide Range of Chart Types\n",
        "\n",
        "3.Easy to Use with High-Level API (Plotly Express)\n",
        "\n",
        "4.Web and Dashboard Integration\n",
        "\n",
        "5.Beautiful, Publication-Quality Aesthetics"
      ],
      "metadata": {
        "id": "GxcbzaOV8kH4"
      }
    },
    {
      "cell_type": "markdown",
      "source": [
        "Q15.How does NumPy handle multidimensional arrays?"
      ],
      "metadata": {
        "id": "01Sk34Tf80zz"
      }
    },
    {
      "cell_type": "markdown",
      "source": [
        "Ans.NumPy handles multidimensional arrays using its powerful ndarray (N-dimensional array) structure. These arrays can be 1D, 2D, 3D, or higher, and NumPy provides a rich set of tools for creating, accessing, reshaping, and manipulating them efficiently.\n",
        "\n",
        "1.Unified N-dimensional Array Object (ndarray)\n",
        "\n",
        "2.Shape and Dimensions\n",
        "\n",
        "3.Reshaping and Transposing\n",
        "\n",
        "4.Efficient Slicing and Indexing\n",
        "\n",
        "5.Broadcasting\n",
        "\n",
        "6.High-Speed Computation"
      ],
      "metadata": {
        "id": "TyFve_bL88qQ"
      }
    },
    {
      "cell_type": "markdown",
      "source": [
        "Q16.What is the role of Bokeh in data visualization?"
      ],
      "metadata": {
        "id": "n-bPXuIs9MRx"
      }
    },
    {
      "cell_type": "markdown",
      "source": [
        "Ans.Bokeh is a powerful Python library used for interactive and web-ready data visualizations. Its main role is to help developers and data scientists create dynamic, browser-based plots and dashboards that are both visually rich and responsive to user interaction.\n",
        "\n",
        "Key Roles of Bokeh in Data Visualization:\n",
        "\n",
        "1.Creates Interactive Visualizations\n",
        "\n",
        "2.Web-Ready Output\n",
        "\n",
        "3.Supports a Wide Range of Chart Types\n",
        "\n",
        "4.Highly Customizable and Extendable\n",
        "\n",
        "5.Real-Time Streaming and Updates"
      ],
      "metadata": {
        "id": "CWsDNsBx9SSl"
      }
    },
    {
      "cell_type": "markdown",
      "source": [
        "Q17.Explain the difference between apply() and map() in Pandas."
      ],
      "metadata": {
        "id": "U1_oroZg9hSe"
      }
    },
    {
      "cell_type": "markdown",
      "source": [
        "Ans.n Pandas, both apply() and map() are used to transform data in a DataFrame or Series, but they serve different purposes and work in different contexts. Here's a clear breakdown of their differences:\n",
        "\n",
        "1.map() — Used Only with Series\n",
        "2.apply() — Works with Series or DataFrames"
      ],
      "metadata": {
        "id": "a-UfL1hZ9lSv"
      }
    },
    {
      "cell_type": "markdown",
      "source": [
        "Q18.What are some advanced features of NumPy?"
      ],
      "metadata": {
        "id": "HHqBmaBF9u-n"
      }
    },
    {
      "cell_type": "markdown",
      "source": [
        "Ans.Advanced Features of NumPy\n",
        "\n",
        "1.Broadcasting:Allows operations between arrays of different shapes by automatically expanding them to a compatible shape.\n",
        "\n",
        "2.Vectorization:Replaces slow Python loops with fast, element-wise operations using vectorized functions.\n",
        "\n",
        "3.Structured Arrays:Support for complex data types (like records) where each element can have named fields with different data types.\n",
        "\n",
        "4.Masked Arrays:Handle arrays with missing or invalid entries using masks."
      ],
      "metadata": {
        "id": "f87Fhjkn9y0B"
      }
    },
    {
      "cell_type": "markdown",
      "source": [
        "Q19.How does Pandas simplify time series analysis?"
      ],
      "metadata": {
        "id": "E3vzRiYu-RS2"
      }
    },
    {
      "cell_type": "markdown",
      "source": [
        "Ans.Key Ways Pandas Simplifies Time Series Analysis\n",
        "\n",
        "1.Datetime Indexing and Frequency Handling\n",
        "\n",
        "2.Resampling and Rolling Windows\n",
        "\n",
        "3.Date/Time Parsing and Conversion\n",
        "\n",
        "4.Time-Based Slicing and Filtering\n",
        "\n",
        "5.Shift and Lag Operations\n",
        "\n",
        "6.Handling Missing Dates and Interpolation\n",
        "\n",
        "7.Powerful DateOffset Objects"
      ],
      "metadata": {
        "id": "UUGOGNkZ-WGq"
      }
    },
    {
      "cell_type": "markdown",
      "source": [
        "Q20.What is the role of a pivot table in Pandas?\n"
      ],
      "metadata": {
        "id": "K13SQM0i-qJa"
      }
    },
    {
      "cell_type": "markdown",
      "source": [
        "Ans.Role and Uses of a Pivot Table in Pandas\n",
        "\n",
        "1.Data Summarization\n",
        "\n",
        "2.Reshaping Data\n",
        "\n",
        "3.Multi-level Grouping\n",
        "\n",
        "4.Quick Analysis\n",
        "\n",
        "5.Custom Aggregations"
      ],
      "metadata": {
        "id": "bFIa8S63-vmT"
      }
    },
    {
      "cell_type": "markdown",
      "source": [
        "Q21.Why is NumPy’s array slicing faster than Python’s list slicing?"
      ],
      "metadata": {
        "id": "GuNPNTqk-7YD"
      }
    },
    {
      "cell_type": "markdown",
      "source": [
        "Ans.NumPy’s array slicing is faster than Python’s list slicing primarily because of how the two data structures are implemented and stored in memory:\n",
        "\n",
        "1.Contiguous Memory Storage\n",
        "\n",
        "2.Homogeneous Data Types\n",
        "\n",
        "3.No Data Copying on Slice\n",
        "\n",
        "4.Optimized C Implementation"
      ],
      "metadata": {
        "id": "cCVyET4U_BEQ"
      }
    },
    {
      "cell_type": "markdown",
      "source": [
        "Q22.What are some common use cases for Seaborn?"
      ],
      "metadata": {
        "id": "-2PoZt-L_L_M"
      }
    },
    {
      "cell_type": "markdown",
      "source": [
        "Ans.Seaborn is a popular Python data visualization library built on top of Matplotlib, designed to make statistical graphics easy and beautiful. Here are some common use cases for Seaborn:\n",
        "\n",
        "1.Exploratory Data Analysis (EDA)\n",
        "\n",
        "2.Visualizing Statistical Relationships\n",
        "\n",
        "3.Handling Categorical Data\n",
        "\n",
        "4.Multi-Variable Visualizations\n",
        "\n",
        "5.Improved Aesthetics and Themes\n",
        "\n",
        "6.Time Series and Distribution Visualization"
      ],
      "metadata": {
        "id": "BhbIq4Tc_OrK"
      }
    },
    {
      "cell_type": "markdown",
      "source": [
        "**Practical Questions**"
      ],
      "metadata": {
        "id": "zqtuF0HL_a3g"
      }
    },
    {
      "cell_type": "markdown",
      "source": [
        "Q1.How do you create a 2D NumPy array and calculate the sum of each row?"
      ],
      "metadata": {
        "id": "zV32-rMX_fPX"
      }
    },
    {
      "cell_type": "code",
      "source": [
        "import numpy as np\n",
        "\n",
        "arr = np.array([[1, 2, 3],\n",
        "                [4, 5, 6],\n",
        "                [7, 8, 9]])\n",
        "\n",
        "row_sums = arr.sum(axis=1)\n",
        "\n",
        "print(\"2D Array:\")\n",
        "print(arr)\n",
        "print(\"\\nSum of each row:\")\n",
        "print(row_sums)"
      ],
      "metadata": {
        "colab": {
          "base_uri": "https://localhost:8080/"
        },
        "id": "UEZHUHDQ_k80",
        "outputId": "65cf3ee1-7d6c-4d0f-d582-d932fb5129e4"
      },
      "execution_count": 1,
      "outputs": [
        {
          "output_type": "stream",
          "name": "stdout",
          "text": [
            "2D Array:\n",
            "[[1 2 3]\n",
            " [4 5 6]\n",
            " [7 8 9]]\n",
            "\n",
            "Sum of each row:\n",
            "[ 6 15 24]\n"
          ]
        }
      ]
    },
    {
      "cell_type": "markdown",
      "source": [
        "Q2.Write a Pandas script to find the mean of a specific column in a DataFrame."
      ],
      "metadata": {
        "id": "q9R23W5r_0wX"
      }
    },
    {
      "cell_type": "code",
      "source": [
        "import pandas as pd\n",
        "\n",
        "DataFrameA = pd.DataFrame({\n",
        "    'column_name': [10, 20, 30, 40, 50],\n",
        "    'other_column': [1, 2, 3, 4, 5]\n",
        "})\n",
        "\n",
        "mean_value = DataFrameA['column_name'].mean()\n",
        "\n",
        "print(f\"Mean of 'column_name': {mean_value}\")\n"
      ],
      "metadata": {
        "colab": {
          "base_uri": "https://localhost:8080/"
        },
        "id": "t9FVmrf__5bz",
        "outputId": "0e7d5ad1-703d-4b2c-d9c5-297aba8562d9"
      },
      "execution_count": 2,
      "outputs": [
        {
          "output_type": "stream",
          "name": "stdout",
          "text": [
            "Mean of 'column_name': 30.0\n"
          ]
        }
      ]
    },
    {
      "cell_type": "markdown",
      "source": [
        "Q3.Create a scatter plot using Matplotlib."
      ],
      "metadata": {
        "id": "90P5-D1LAFn3"
      }
    },
    {
      "cell_type": "code",
      "source": [
        "import matplotlib.pyplot as plt\n",
        "\n",
        "MatplotlibA = pd.DataFrame({\n",
        "    'x_column': [1, 2, 3, 4, 5],\n",
        "    'y_column': [10, 20, 30, 40, 50]\n",
        "})\n",
        "\n",
        "x = MatplotlibA['x_column']\n",
        "y = MatplotlibA['y_column']\n",
        "\n",
        "\n",
        "plt.scatter(x, y)\n",
        "\n",
        "\n",
        "plt.xlabel('X Axis Label')\n",
        "plt.ylabel('Y Axis Label')\n",
        "plt.title('Scatter Plot Example')\n",
        "\n",
        "plt.show()\n"
      ],
      "metadata": {
        "colab": {
          "base_uri": "https://localhost:8080/",
          "height": 472
        },
        "id": "zeypE_bfAIxP",
        "outputId": "51672cb9-8364-4402-9be2-4fc40fda2e84"
      },
      "execution_count": 5,
      "outputs": [
        {
          "output_type": "display_data",
          "data": {
            "text/plain": [
              "<Figure size 640x480 with 1 Axes>"
            ],
            "image/png": "[encoded data removed]"
          },
          "metadata": {}
        }
      ]
    },
    {
      "cell_type": "markdown",
      "source": [
        "Q4.How do you calculate the correlation matrix using Seaborn and visualize it with a heatmap?"
      ],
      "metadata": {
        "id": "V4AV20zoAvEm"
      }
    },
    {
      "cell_type": "code",
      "source": [
        "import pandas as pd\n",
        "import seaborn as sns\n",
        "import matplotlib.pyplot as plt\n",
        "\n",
        "\n",
        "df = pd.DataFrame({\n",
        "    'A': [1, 2, 3, 4, 5],\n",
        "    'B': [5, 4, 3, 2, 1],\n",
        "    'C': [2, 3, 4, 5, 6]\n",
        "})\n",
        "\n",
        "corr_matrix = df.corr()\n",
        "sns.heatmap(corr_matrix, annot=True, cmap='coolwarm')\n",
        "plt.title('Correlation Matrix Heatmap')\n",
        "plt.show()\n"
      ],
      "metadata": {
        "colab": {
          "base_uri": "https://localhost:8080/",
          "height": 452
        },
        "id": "UZ1ZaZH5Az7p",
        "outputId": "419fcd9d-1efa-44e2-de20-3d24ffb5d4e8"
      },
      "execution_count": 6,
      "outputs": [
        {
          "output_type": "display_data",
          "data": {
            "text/plain": [
              "<Figure size 640x480 with 2 Axes>"
            ],
            "image/png": "[encoded data removed]"
          },
          "metadata": {}
        }
      ]
    },
    {
      "cell_type": "markdown",
      "source": [
        "Q5.Generate a bar plot using Plotly."
      ],
      "metadata": {
        "id": "SYfZw49dA7oz"
      }
    },
    {
      "cell_type": "code",
      "source": [
        "import plotly.express as px\n",
        "\n",
        "PlotlyA = pd.DataFrame({\n",
        "    'category_column': ['A', 'B', 'C', 'D', 'E'],\n",
        "    'value_column': [10, 20, 30, 40, 50]\n",
        "})\n",
        "fig = px.bar(PlotlyA, x='category_column', y='value_column',\n",
        "             title='Bar Plot Example', labels={'category_column': 'Category', 'value_column': 'Value'})\n",
        "\n",
        "fig.show()\n"
      ],
      "metadata": {
        "colab": {
          "base_uri": "https://localhost:8080/",
          "height": 542
        },
        "id": "XLN_5tBhA_WH",
        "outputId": "ddbc65a3-7aa2-4fa6-81f7-e0568cc47a33"
      },
      "execution_count": 8,
      "outputs": [
        {
          "output_type": "display_data",
          "data": {
            "text/html": [
              "<html>\n",
              "<head><meta charset=\"utf-8\" /></head>\n",
              "<body>\n",
              "    <div>            <script src=\"https://cdnjs.cloudflare.com/ajax/libs/mathjax/2.7.5/MathJax.js?config=TeX-AMS-MML_SVG\"></script><script type=\"text/javascript\">if (window.MathJax && window.MathJax.Hub && window.MathJax.Hub.Config) {window.MathJax.Hub.Config({SVG: {font: \"STIX-Web\"}});}</script>                <script type=\"text/javascript\">window.PlotlyConfig = {MathJaxConfig: 'local'};</script>\n",
              "        <script charset=\"utf-8\" src=\"https://cdn.plot.ly/plotly-2.35.2.min.js\"></script>                <div id=\"2b3c3853-452e-46ab-ab5b-d79a65e940d6\" class=\"plotly-graph-div\" style=\"height:525px; width:100%;\"></div>            <script type=\"text/javascript\">                                    window.PLOTLYENV=window.PLOTLYENV || {};                                    if (document.getElementById(\"2b3c3853-452e-46ab-ab5b-d79a65e940d6\")) {                    Plotly.newPlot(                        \"2b3c3853-452e-46ab-ab5b-d79a65e940d6\",                        [{\"alignmentgroup\":\"True\",\"hovertemplate\":\"Category=%{x}\\u003cbr\\u003eValue=%{y}\\u003cextra\\u003e\\u003c\\u002fextra\\u003e\",\"legendgroup\":\"\",\"marker\":{\"color\":\"#636efa\",\"pattern\":{\"shape\":\"\"}},\"name\":\"\",\"offsetgroup\":\"\",\"orientation\":\"v\",\"showlegend\":false,\"textposition\":\"auto\",\"x\":[\"A\",\"B\",\"C\",\"D\",\"E\"],\"xaxis\":\"x\",\"y\":[10,20,30,40,50],\"yaxis\":\"y\",\"type\":\"bar\"}],                        {\"template\":{\"data\":{\"histogram2dcontour\":[{\"type\":\"histogram2dcontour\",\"colorbar\":{\"outlinewidth\":0,\"ticks\":\"\"},\"colorscale\":[[0.0,\"#0d0887\"],[0.1111111111111111,\"#46039f\"],[0.2222222222222222,\"#7201a8\"],[0.3333333333333333,\"#9c179e\"],[0.4444444444444444,\"#bd3786\"],[0.5555555555555556,\"#d8576b\"],[0.6666666666666666,\"#ed7953\"],[0.7777777777777778,\"#fb9f3a\"],[0.8888888888888888,\"#fdca26\"],[1.0,\"#f0f921\"]]}],\"choropleth\":[{\"type\":\"choropleth\",\"colorbar\":{\"outlinewidth\":0,\"ticks\":\"\"}}],\"histogram2d\":[{\"type\":\"histogram2d\",\"colorbar\":{\"outlinewidth\":0,\"ticks\":\"\"},\"colorscale\":[[0.0,\"#0d0887\"],[0.1111111111111111,\"#46039f\"],[0.2222222222222222,\"#7201a8\"],[0.3333333333333333,\"#9c179e\"],[0.4444444444444444,\"#bd3786\"],[0.5555555555555556,\"#d8576b\"],[0.6666666666666666,\"#ed7953\"],[0.7777777777777778,\"#fb9f3a\"],[0.8888888888888888,\"#fdca26\"],[1.0,\"#f0f921\"]]}],\"heatmap\":[{\"type\":\"heatmap\",\"colorbar\":{\"outlinewidth\":0,\"ticks\":\"\"},\"colorscale\":[[0.0,\"#0d0887\"],[0.1111111111111111,\"#46039f\"],[0.2222222222222222,\"#7201a8\"],[0.3333333333333333,\"#9c179e\"],[0.4444444444444444,\"#bd3786\"],[0.5555555555555556,\"#d8576b\"],[0.6666666666666666,\"#ed7953\"],[0.7777777777777778,\"#fb9f3a\"],[0.8888888888888888,\"#fdca26\"],[1.0,\"#f0f921\"]]}],\"heatmapgl\":[{\"type\":\"heatmapgl\",\"colorbar\":{\"outlinewidth\":0,\"ticks\":\"\"},\"colorscale\":[[0.0,\"#0d0887\"],[0.1111111111111111,\"#46039f\"],[0.2222222222222222,\"#7201a8\"],[0.3333333333333333,\"#9c179e\"],[0.4444444444444444,\"#bd3786\"],[0.5555555555555556,\"#d8576b\"],[0.6666666666666666,\"#ed7953\"],[0.7777777777777778,\"#fb9f3a\"],[0.8888888888888888,\"#fdca26\"],[1.0,\"#f0f921\"]]}],\"contourcarpet\":[{\"type\":\"contourcarpet\",\"colorbar\":{\"outlinewidth\":0,\"ticks\":\"\"}}],\"contour\":[{\"type\":\"contour\",\"colorbar\":{\"outlinewidth\":0,\"ticks\":\"\"},\"colorscale\":[[0.0,\"#0d0887\"],[0.1111111111111111,\"#46039f\"],[0.2222222222222222,\"#7201a8\"],[0.3333333333333333,\"#9c179e\"],[0.4444444444444444,\"#bd3786\"],[0.5555555555555556,\"#d8576b\"],[0.6666666666666666,\"#ed7953\"],[0.7777777777777778,\"#fb9f3a\"],[0.8888888888888888,\"#fdca26\"],[1.0,\"#f0f921\"]]}],\"surface\":[{\"type\":\"surface\",\"colorbar\":{\"outlinewidth\":0,\"ticks\":\"\"},\"colorscale\":[[0.0,\"#0d0887\"],[0.1111111111111111,\"#46039f\"],[0.2222222222222222,\"#7201a8\"],[0.3333333333333333,\"#9c179e\"],[0.4444444444444444,\"#bd3786\"],[0.5555555555555556,\"#d8576b\"],[0.6666666666666666,\"#ed7953\"],[0.7777777777777778,\"#fb9f3a\"],[0.8888888888888888,\"#fdca26\"],[1.0,\"#f0f921\"]]}],\"mesh3d\":[{\"type\":\"mesh3d\",\"colorbar\":{\"outlinewidth\":0,\"ticks\":\"\"}}],\"scatter\":[{\"fillpattern\":{\"fillmode\":\"overlay\",\"size\":10,\"solidity\":0.2},\"type\":\"scatter\"}],\"parcoords\":[{\"type\":\"parcoords\",\"line\":{\"colorbar\":{\"outlinewidth\":0,\"ticks\":\"\"}}}],\"scatterpolargl\":[{\"type\":\"scatterpolargl\",\"marker\":{\"colorbar\":{\"outlinewidth\":0,\"ticks\":\"\"}}}],\"bar\":[{\"error_x\":{\"color\":\"#2a3f5f\"},\"error_y\":{\"color\":\"#2a3f5f\"},\"marker\":{\"line\":{\"color\":\"#E5ECF6\",\"width\":0.5},\"pattern\":{\"fillmode\":\"overlay\",\"size\":10,\"solidity\":0.2}},\"type\":\"bar\"}],\"scattergeo\":[{\"type\":\"scattergeo\",\"marker\":{\"colorbar\":{\"outlinewidth\":0,\"ticks\":\"\"}}}],\"scatterpolar\":[{\"type\":\"scatterpolar\",\"marker\":{\"colorbar\":{\"outlinewidth\":0,\"ticks\":\"\"}}}],\"histogram\":[{\"marker\":{\"pattern\":{\"fillmode\":\"overlay\",\"size\":10,\"solidity\":0.2}},\"type\":\"histogram\"}],\"scattergl\":[{\"type\":\"scattergl\",\"marker\":{\"colorbar\":{\"outlinewidth\":0,\"ticks\":\"\"}}}],\"scatter3d\":[{\"type\":\"scatter3d\",\"line\":{\"colorbar\":{\"outlinewidth\":0,\"ticks\":\"\"}},\"marker\":{\"colorbar\":{\"outlinewidth\":0,\"ticks\":\"\"}}}],\"scattermapbox\":[{\"type\":\"scattermapbox\",\"marker\":{\"colorbar\":{\"outlinewidth\":0,\"ticks\":\"\"}}}],\"scatterternary\":[{\"type\":\"scatterternary\",\"marker\":{\"colorbar\":{\"outlinewidth\":0,\"ticks\":\"\"}}}],\"scattercarpet\":[{\"type\":\"scattercarpet\",\"marker\":{\"colorbar\":{\"outlinewidth\":0,\"ticks\":\"\"}}}],\"carpet\":[{\"aaxis\":{\"endlinecolor\":\"#2a3f5f\",\"gridcolor\":\"white\",\"linecolor\":\"white\",\"minorgridcolor\":\"white\",\"startlinecolor\":\"#2a3f5f\"},\"baxis\":{\"endlinecolor\":\"#2a3f5f\",\"gridcolor\":\"white\",\"linecolor\":\"white\",\"minorgridcolor\":\"white\",\"startlinecolor\":\"#2a3f5f\"},\"type\":\"carpet\"}],\"table\":[{\"cells\":{\"fill\":{\"color\":\"#EBF0F8\"},\"line\":{\"color\":\"white\"}},\"header\":{\"fill\":{\"color\":\"#C8D4E3\"},\"line\":{\"color\":\"white\"}},\"type\":\"table\"}],\"barpolar\":[{\"marker\":{\"line\":{\"color\":\"#E5ECF6\",\"width\":0.5},\"pattern\":{\"fillmode\":\"overlay\",\"size\":10,\"solidity\":0.2}},\"type\":\"barpolar\"}],\"pie\":[{\"automargin\":true,\"type\":\"pie\"}]},\"layout\":{\"autotypenumbers\":\"strict\",\"colorway\":[\"#636efa\",\"#EF553B\",\"#00cc96\",\"#ab63fa\",\"#FFA15A\",\"#19d3f3\",\"#FF6692\",\"#B6E880\",\"#FF97FF\",\"#FECB52\"],\"font\":{\"color\":\"#2a3f5f\"},\"hovermode\":\"closest\",\"hoverlabel\":{\"align\":\"left\"},\"paper_bgcolor\":\"white\",\"plot_bgcolor\":\"#E5ECF6\",\"polar\":{\"bgcolor\":\"#E5ECF6\",\"angularaxis\":{\"gridcolor\":\"white\",\"linecolor\":\"white\",\"ticks\":\"\"},\"radialaxis\":{\"gridcolor\":\"white\",\"linecolor\":\"white\",\"ticks\":\"\"}},\"ternary\":{\"bgcolor\":\"#E5ECF6\",\"aaxis\":{\"gridcolor\":\"white\",\"linecolor\":\"white\",\"ticks\":\"\"},\"baxis\":{\"gridcolor\":\"white\",\"linecolor\":\"white\",\"ticks\":\"\"},\"caxis\":{\"gridcolor\":\"white\",\"linecolor\":\"white\",\"ticks\":\"\"}},\"coloraxis\":{\"colorbar\":{\"outlinewidth\":0,\"ticks\":\"\"}},\"colorscale\":{\"sequential\":[[0.0,\"#0d0887\"],[0.1111111111111111,\"#46039f\"],[0.2222222222222222,\"#7201a8\"],[0.3333333333333333,\"#9c179e\"],[0.4444444444444444,\"#bd3786\"],[0.5555555555555556,\"#d8576b\"],[0.6666666666666666,\"#ed7953\"],[0.7777777777777778,\"#fb9f3a\"],[0.8888888888888888,\"#fdca26\"],[1.0,\"#f0f921\"]],\"sequentialminus\":[[0.0,\"#0d0887\"],[0.1111111111111111,\"#46039f\"],[0.2222222222222222,\"#7201a8\"],[0.3333333333333333,\"#9c179e\"],[0.4444444444444444,\"#bd3786\"],[0.5555555555555556,\"#d8576b\"],[0.6666666666666666,\"#ed7953\"],[0.7777777777777778,\"#fb9f3a\"],[0.8888888888888888,\"#fdca26\"],[1.0,\"#f0f921\"]],\"diverging\":[[0,\"#8e0152\"],[0.1,\"#c51b7d\"],[0.2,\"#de77ae\"],[0.3,\"#f1b6da\"],[0.4,\"#fde0ef\"],[0.5,\"#f7f7f7\"],[0.6,\"#e6f5d0\"],[0.7,\"#b8e186\"],[0.8,\"#7fbc41\"],[0.9,\"#4d9221\"],[1,\"#276419\"]]},\"xaxis\":{\"gridcolor\":\"white\",\"linecolor\":\"white\",\"ticks\":\"\",\"title\":{\"standoff\":15},\"zerolinecolor\":\"white\",\"automargin\":true,\"zerolinewidth\":2},\"yaxis\":{\"gridcolor\":\"white\",\"linecolor\":\"white\",\"ticks\":\"\",\"title\":{\"standoff\":15},\"zerolinecolor\":\"white\",\"automargin\":true,\"zerolinewidth\":2},\"scene\":{\"xaxis\":{\"backgroundcolor\":\"#E5ECF6\",\"gridcolor\":\"white\",\"linecolor\":\"white\",\"showbackground\":true,\"ticks\":\"\",\"zerolinecolor\":\"white\",\"gridwidth\":2},\"yaxis\":{\"backgroundcolor\":\"#E5ECF6\",\"gridcolor\":\"white\",\"linecolor\":\"white\",\"showbackground\":true,\"ticks\":\"\",\"zerolinecolor\":\"white\",\"gridwidth\":2},\"zaxis\":{\"backgroundcolor\":\"#E5ECF6\",\"gridcolor\":\"white\",\"linecolor\":\"white\",\"showbackground\":true,\"ticks\":\"\",\"zerolinecolor\":\"white\",\"gridwidth\":2}},\"shapedefaults\":{\"line\":{\"color\":\"#2a3f5f\"}},\"annotationdefaults\":{\"arrowcolor\":\"#2a3f5f\",\"arrowhead\":0,\"arrowwidth\":1},\"geo\":{\"bgcolor\":\"white\",\"landcolor\":\"#E5ECF6\",\"subunitcolor\":\"white\",\"showland\":true,\"showlakes\":true,\"lakecolor\":\"white\"},\"title\":{\"x\":0.05},\"mapbox\":{\"style\":\"light\"}}},\"xaxis\":{\"anchor\":\"y\",\"domain\":[0.0,1.0],\"title\":{\"text\":\"Category\"}},\"yaxis\":{\"anchor\":\"x\",\"domain\":[0.0,1.0],\"title\":{\"text\":\"Value\"}},\"legend\":{\"tracegroupgap\":0},\"title\":{\"text\":\"Bar Plot Example\"},\"barmode\":\"relative\"},                        {\"responsive\": true}                    ).then(function(){\n",
              "                            \n",
              "var gd = document.getElementById('2b3c3853-452e-46ab-ab5b-d79a65e940d6');\n",
              "var x = new MutationObserver(function (mutations, observer) {{\n",
              "        var display = window.getComputedStyle(gd).display;\n",
              "        if (!display || display === 'none') {{\n",
              "            console.log([gd, 'removed!']);\n",
              "            Plotly.purge(gd);\n",
              "            observer.disconnect();\n",
              "        }}\n",
              "}});\n",
              "\n",
              "// Listen for the removal of the full notebook cells\n",
              "var notebookContainer = gd.closest('#notebook-container');\n",
              "if (notebookContainer) {{\n",
              "    x.observe(notebookContainer, {childList: true});\n",
              "}}\n",
              "\n",
              "// Listen for the clearing of the current output cell\n",
              "var outputEl = gd.closest('.output');\n",
              "if (outputEl) {{\n",
              "    x.observe(outputEl, {childList: true});\n",
              "}}\n",
              "\n",
              "                        })                };                            </script>        </div>\n",
              "</body>\n",
              "</html>"
            ]
          },
          "metadata": {}
        }
      ]
    },
    {
      "cell_type": "markdown",
      "source": [
        "Q6.Create a DataFrame and add a new column based on an existing column."
      ],
      "metadata": {
        "id": "GVnq8UMmBL41"
      }
    },
    {
      "cell_type": "code",
      "source": [
        "import pandas as pd\n",
        "\n",
        "df = pd.DataFrame({\n",
        "    'A': [10, 20, 30, 40, 50]\n",
        "})\n",
        "\n",
        "df['B'] = df['A'] * 2\n",
        "\n",
        "print(df)\n"
      ],
      "metadata": {
        "colab": {
          "base_uri": "https://localhost:8080/"
        },
        "id": "hcWqoGGoBPdR",
        "outputId": "0c8fb5a0-2c9a-4658-f92a-115586ecd618"
      },
      "execution_count": 9,
      "outputs": [
        {
          "output_type": "stream",
          "name": "stdout",
          "text": [
            "    A    B\n",
            "0  10   20\n",
            "1  20   40\n",
            "2  30   60\n",
            "3  40   80\n",
            "4  50  100\n"
          ]
        }
      ]
    },
    {
      "cell_type": "markdown",
      "source": [
        "Q7.Write a program to perform element-wise multiplication of two NumPy arrays."
      ],
      "metadata": {
        "id": "KLGJpTZYBUHc"
      }
    },
    {
      "cell_type": "code",
      "source": [
        "import numpy as np\n",
        "\n",
        "arr1 = np.array([1, 2, 3, 4])\n",
        "arr2 = np.array([5, 6, 7, 8])\n",
        "\n",
        "result = arr1 * arr2\n",
        "\n",
        "print(\"Array 1:\", arr1)\n",
        "print(\"Array 2:\", arr2)\n",
        "print(\"Element-wise multiplication result:\", result)\n"
      ],
      "metadata": {
        "colab": {
          "base_uri": "https://localhost:8080/"
        },
        "id": "FswAey8iBX_U",
        "outputId": "64215853-5dac-478b-e03c-892428b6949c"
      },
      "execution_count": 10,
      "outputs": [
        {
          "output_type": "stream",
          "name": "stdout",
          "text": [
            "Array 1: [1 2 3 4]\n",
            "Array 2: [5 6 7 8]\n",
            "Element-wise multiplication result: [ 5 12 21 32]\n"
          ]
        }
      ]
    },
    {
      "cell_type": "markdown",
      "source": [
        "Q8.Create a line plot with multiple lines using Matplotlib."
      ],
      "metadata": {
        "id": "XqHMtvSUBdNO"
      }
    },
    {
      "cell_type": "code",
      "source": [
        "import matplotlib.pyplot as plt\n",
        "import pandas as pd\n",
        "\n",
        "MatplotlibA = pd.DataFrame({\n",
        "    'x_column': [1, 2, 3, 4, 5],\n",
        "    'y1_column': [10, 20, 15, 25, 30], # Added y1_column\n",
        "    'y2_column': [5, 15, 10, 20, 25]   # Added y2_column\n",
        "})\n",
        "x = MatplotlibA['x_column']\n",
        "y1 = MatplotlibA['y1_column']\n",
        "y2 = MatplotlibA['y2_column']\n",
        "\n",
        "plt.plot(x, y1, label='Line 1')\n",
        "plt.plot(x, y2, label='Line 2')\n",
        "\n",
        "plt.xlabel('X Axis Label')\n",
        "plt.ylabel('Y Axis Label')\n",
        "plt.title('Multiple Lines Plot')\n",
        "\n",
        "plt.legend()\n",
        "\n",
        "plt.show()\n"
      ],
      "metadata": {
        "colab": {
          "base_uri": "https://localhost:8080/",
          "height": 472
        },
        "id": "PbsvcXesBhON",
        "outputId": "c7583d75-0bb8-4160-95ee-e466dd57f6f3"
      },
      "execution_count": 13,
      "outputs": [
        {
          "output_type": "display_data",
          "data": {
            "text/plain": [
              "<Figure size 640x480 with 1 Axes>"
            ],
            "image/png": "[encoded data removed]"
          },
          "metadata": {}
        }
      ]
    },
    {
      "cell_type": "markdown",
      "source": [
        "Q9.Generate a Pandas DataFrame and filter rows where a column value is greater than a threshold."
      ],
      "metadata": {
        "id": "eJ20QgKGB37b"
      }
    },
    {
      "cell_type": "code",
      "source": [
        "import pandas as pd\n",
        "\n",
        "df = pd.DataFrame({\n",
        "    'Name': ['Alice', 'Bob', 'Charlie', 'David', 'Eva'],\n",
        "    'Age': [25, 30, 35, 40, 22],\n",
        "    'Score': [85, 90, 78, 88, 95]\n",
        "})\n",
        "\n",
        "threshold = 30\n",
        "\n",
        "filtered_df = df[df['Age'] > threshold]\n",
        "\n",
        "print(filtered_df)\n"
      ],
      "metadata": {
        "colab": {
          "base_uri": "https://localhost:8080/"
        },
        "id": "dnll0TWpB9rg",
        "outputId": "9a5b93d8-4138-498b-a953-2723bead5470"
      },
      "execution_count": 14,
      "outputs": [
        {
          "output_type": "stream",
          "name": "stdout",
          "text": [
            "      Name  Age  Score\n",
            "2  Charlie   35     78\n",
            "3    David   40     88\n"
          ]
        }
      ]
    },
    {
      "cell_type": "markdown",
      "source": [
        "Q10.Create a histogram using Seaborn to visualize a distribution."
      ],
      "metadata": {
        "id": "tLR4Oro8CDCY"
      }
    },
    {
      "cell_type": "code",
      "source": [
        "import seaborn as sns\n",
        "import matplotlib.pyplot as plt\n",
        "\n",
        "import pandas as pd\n",
        "df = pd.DataFrame({\n",
        "    'values': [10, 12, 13, 15, 18, 20, 21, 22, 22, 25, 28, 30, 32, 35, 40]\n",
        "})\n",
        "\n",
        "sns.histplot(df['values'], bins=10, kde=False)\n",
        "\n",
        "plt.xlabel('Values')\n",
        "plt.ylabel('Frequency')\n",
        "plt.title('Histogram of Values')\n",
        "\n",
        "plt.show()\n"
      ],
      "metadata": {
        "colab": {
          "base_uri": "https://localhost:8080/",
          "height": 472
        },
        "id": "e1VIEKxPCIfO",
        "outputId": "5c0afa2c-39bb-48b9-ef71-494064f9c4d9"
      },
      "execution_count": 15,
      "outputs": [
        {
          "output_type": "display_data",
          "data": {
            "text/plain": [
              "<Figure size 640x480 with 1 Axes>"
            ],
            "image/png": "[encoded data removed]"
          },
          "metadata": {}
        }
      ]
    },
    {
      "cell_type": "markdown",
      "source": [
        "Q11.A Perform matrix multiplication using NumPy."
      ],
      "metadata": {
        "id": "bJ0dG5CQCNxC"
      }
    },
    {
      "cell_type": "code",
      "source": [
        "import numpy as np\n",
        "\n",
        "A = np.array([[1, 2],\n",
        "              [3, 4]])\n",
        "\n",
        "B = np.array([[5, 6],\n",
        "              [7, 8]])\n",
        "\n",
        "\n",
        "result = np.matmul(A, B)\n",
        "\n",
        "print(\"Matrix A:\")\n",
        "print(A)\n",
        "print(\"\\nMatrix B:\")\n",
        "print(B)\n",
        "print(\"\\nMatrix multiplication result (A x B):\")\n",
        "print(result)\n"
      ],
      "metadata": {
        "colab": {
          "base_uri": "https://localhost:8080/"
        },
        "id": "d58kVxhICQ3c",
        "outputId": "efc4704c-21f4-4af8-a63a-15b294cd2a2a"
      },
      "execution_count": 16,
      "outputs": [
        {
          "output_type": "stream",
          "name": "stdout",
          "text": [
            "Matrix A:\n",
            "[[1 2]\n",
            " [3 4]]\n",
            "\n",
            "Matrix B:\n",
            "[[5 6]\n",
            " [7 8]]\n",
            "\n",
            "Matrix multiplication result (A x B):\n",
            "[[19 22]\n",
            " [43 50]]\n"
          ]
        }
      ]
    },
    {
      "cell_type": "markdown",
      "source": [
        "Q12."
      ],
      "metadata": {
        "id": "Jl0q4wvTCWLh"
      }
    },
    {
      "cell_type": "markdown",
      "source": [
        "Q13.Create a 3D scatter plot using Plotly."
      ],
      "metadata": {
        "id": "lnkW-RwmCaGb"
      }
    },
    {
      "cell_type": "code",
      "source": [
        "import plotly.express as px\n",
        "import pandas as pd\n",
        "\n",
        "df = pd.DataFrame({\n",
        "    'x': [1, 2, 3, 4, 5],\n",
        "    'y': [10, 11, 12, 13, 14],\n",
        "    'z': [100, 101, 102, 103, 104],\n",
        "    'category': ['A', 'B', 'A', 'B', 'A']\n",
        "})\n",
        "\n",
        "fig = px.scatter_3d(df, x='x', y='y', z='z', color='category',\n",
        "                    title='3D Scatter Plot Example')\n",
        "\n",
        "fig.show()\n"
      ],
      "metadata": {
        "colab": {
          "base_uri": "https://localhost:8080/",
          "height": 542
        },
        "id": "BXAgp9bMCccj",
        "outputId": "231dba99-bf4f-459a-bc23-e92f4c16d041"
      },
      "execution_count": 18,
      "outputs": [
        {
          "output_type": "display_data",
          "data": {
            "text/html": [
              "<html>\n",
              "<head><meta charset=\"utf-8\" /></head>\n",
              "<body>\n",
              "    <div>            <script src=\"https://cdnjs.cloudflare.com/ajax/libs/mathjax/2.7.5/MathJax.js?config=TeX-AMS-MML_SVG\"></script><script type=\"text/javascript\">if (window.MathJax && window.MathJax.Hub && window.MathJax.Hub.Config) {window.MathJax.Hub.Config({SVG: {font: \"STIX-Web\"}});}</script>                <script type=\"text/javascript\">window.PlotlyConfig = {MathJaxConfig: 'local'};</script>\n",
              "        <script charset=\"utf-8\" src=\"https://cdn.plot.ly/plotly-2.35.2.min.js\"></script>                <div id=\"a8949baf-5496-4257-a329-40cd980171d4\" class=\"plotly-graph-div\" style=\"height:525px; width:100%;\"></div>            <script type=\"text/javascript\">                                    window.PLOTLYENV=window.PLOTLYENV || {};                                    if (document.getElementById(\"a8949baf-5496-4257-a329-40cd980171d4\")) {                    Plotly.newPlot(                        \"a8949baf-5496-4257-a329-40cd980171d4\",                        [{\"hovertemplate\":\"category=A\\u003cbr\\u003ex=%{x}\\u003cbr\\u003ey=%{y}\\u003cbr\\u003ez=%{z}\\u003cextra\\u003e\\u003c\\u002fextra\\u003e\",\"legendgroup\":\"A\",\"marker\":{\"color\":\"#636efa\",\"symbol\":\"circle\"},\"mode\":\"markers\",\"name\":\"A\",\"scene\":\"scene\",\"showlegend\":true,\"x\":[1,3,5],\"y\":[10,12,14],\"z\":[100,102,104],\"type\":\"scatter3d\"},{\"hovertemplate\":\"category=B\\u003cbr\\u003ex=%{x}\\u003cbr\\u003ey=%{y}\\u003cbr\\u003ez=%{z}\\u003cextra\\u003e\\u003c\\u002fextra\\u003e\",\"legendgroup\":\"B\",\"marker\":{\"color\":\"#EF553B\",\"symbol\":\"circle\"},\"mode\":\"markers\",\"name\":\"B\",\"scene\":\"scene\",\"showlegend\":true,\"x\":[2,4],\"y\":[11,13],\"z\":[101,103],\"type\":\"scatter3d\"}],                        {\"template\":{\"data\":{\"histogram2dcontour\":[{\"type\":\"histogram2dcontour\",\"colorbar\":{\"outlinewidth\":0,\"ticks\":\"\"},\"colorscale\":[[0.0,\"#0d0887\"],[0.1111111111111111,\"#46039f\"],[0.2222222222222222,\"#7201a8\"],[0.3333333333333333,\"#9c179e\"],[0.4444444444444444,\"#bd3786\"],[0.5555555555555556,\"#d8576b\"],[0.6666666666666666,\"#ed7953\"],[0.7777777777777778,\"#fb9f3a\"],[0.8888888888888888,\"#fdca26\"],[1.0,\"#f0f921\"]]}],\"choropleth\":[{\"type\":\"choropleth\",\"colorbar\":{\"outlinewidth\":0,\"ticks\":\"\"}}],\"histogram2d\":[{\"type\":\"histogram2d\",\"colorbar\":{\"outlinewidth\":0,\"ticks\":\"\"},\"colorscale\":[[0.0,\"#0d0887\"],[0.1111111111111111,\"#46039f\"],[0.2222222222222222,\"#7201a8\"],[0.3333333333333333,\"#9c179e\"],[0.4444444444444444,\"#bd3786\"],[0.5555555555555556,\"#d8576b\"],[0.6666666666666666,\"#ed7953\"],[0.7777777777777778,\"#fb9f3a\"],[0.8888888888888888,\"#fdca26\"],[1.0,\"#f0f921\"]]}],\"heatmap\":[{\"type\":\"heatmap\",\"colorbar\":{\"outlinewidth\":0,\"ticks\":\"\"},\"colorscale\":[[0.0,\"#0d0887\"],[0.1111111111111111,\"#46039f\"],[0.2222222222222222,\"#7201a8\"],[0.3333333333333333,\"#9c179e\"],[0.4444444444444444,\"#bd3786\"],[0.5555555555555556,\"#d8576b\"],[0.6666666666666666,\"#ed7953\"],[0.7777777777777778,\"#fb9f3a\"],[0.8888888888888888,\"#fdca26\"],[1.0,\"#f0f921\"]]}],\"heatmapgl\":[{\"type\":\"heatmapgl\",\"colorbar\":{\"outlinewidth\":0,\"ticks\":\"\"},\"colorscale\":[[0.0,\"#0d0887\"],[0.1111111111111111,\"#46039f\"],[0.2222222222222222,\"#7201a8\"],[0.3333333333333333,\"#9c179e\"],[0.4444444444444444,\"#bd3786\"],[0.5555555555555556,\"#d8576b\"],[0.6666666666666666,\"#ed7953\"],[0.7777777777777778,\"#fb9f3a\"],[0.8888888888888888,\"#fdca26\"],[1.0,\"#f0f921\"]]}],\"contourcarpet\":[{\"type\":\"contourcarpet\",\"colorbar\":{\"outlinewidth\":0,\"ticks\":\"\"}}],\"contour\":[{\"type\":\"contour\",\"colorbar\":{\"outlinewidth\":0,\"ticks\":\"\"},\"colorscale\":[[0.0,\"#0d0887\"],[0.1111111111111111,\"#46039f\"],[0.2222222222222222,\"#7201a8\"],[0.3333333333333333,\"#9c179e\"],[0.4444444444444444,\"#bd3786\"],[0.5555555555555556,\"#d8576b\"],[0.6666666666666666,\"#ed7953\"],[0.7777777777777778,\"#fb9f3a\"],[0.8888888888888888,\"#fdca26\"],[1.0,\"#f0f921\"]]}],\"surface\":[{\"type\":\"surface\",\"colorbar\":{\"outlinewidth\":0,\"ticks\":\"\"},\"colorscale\":[[0.0,\"#0d0887\"],[0.1111111111111111,\"#46039f\"],[0.2222222222222222,\"#7201a8\"],[0.3333333333333333,\"#9c179e\"],[0.4444444444444444,\"#bd3786\"],[0.5555555555555556,\"#d8576b\"],[0.6666666666666666,\"#ed7953\"],[0.7777777777777778,\"#fb9f3a\"],[0.8888888888888888,\"#fdca26\"],[1.0,\"#f0f921\"]]}],\"mesh3d\":[{\"type\":\"mesh3d\",\"colorbar\":{\"outlinewidth\":0,\"ticks\":\"\"}}],\"scatter\":[{\"fillpattern\":{\"fillmode\":\"overlay\",\"size\":10,\"solidity\":0.2},\"type\":\"scatter\"}],\"parcoords\":[{\"type\":\"parcoords\",\"line\":{\"colorbar\":{\"outlinewidth\":0,\"ticks\":\"\"}}}],\"scatterpolargl\":[{\"type\":\"scatterpolargl\",\"marker\":{\"colorbar\":{\"outlinewidth\":0,\"ticks\":\"\"}}}],\"bar\":[{\"error_x\":{\"color\":\"#2a3f5f\"},\"error_y\":{\"color\":\"#2a3f5f\"},\"marker\":{\"line\":{\"color\":\"#E5ECF6\",\"width\":0.5},\"pattern\":{\"fillmode\":\"overlay\",\"size\":10,\"solidity\":0.2}},\"type\":\"bar\"}],\"scattergeo\":[{\"type\":\"scattergeo\",\"marker\":{\"colorbar\":{\"outlinewidth\":0,\"ticks\":\"\"}}}],\"scatterpolar\":[{\"type\":\"scatterpolar\",\"marker\":{\"colorbar\":{\"outlinewidth\":0,\"ticks\":\"\"}}}],\"histogram\":[{\"marker\":{\"pattern\":{\"fillmode\":\"overlay\",\"size\":10,\"solidity\":0.2}},\"type\":\"histogram\"}],\"scattergl\":[{\"type\":\"scattergl\",\"marker\":{\"colorbar\":{\"outlinewidth\":0,\"ticks\":\"\"}}}],\"scatter3d\":[{\"type\":\"scatter3d\",\"line\":{\"colorbar\":{\"outlinewidth\":0,\"ticks\":\"\"}},\"marker\":{\"colorbar\":{\"outlinewidth\":0,\"ticks\":\"\"}}}],\"scattermapbox\":[{\"type\":\"scattermapbox\",\"marker\":{\"colorbar\":{\"outlinewidth\":0,\"ticks\":\"\"}}}],\"scatterternary\":[{\"type\":\"scatterternary\",\"marker\":{\"colorbar\":{\"outlinewidth\":0,\"ticks\":\"\"}}}],\"scattercarpet\":[{\"type\":\"scattercarpet\",\"marker\":{\"colorbar\":{\"outlinewidth\":0,\"ticks\":\"\"}}}],\"carpet\":[{\"aaxis\":{\"endlinecolor\":\"#2a3f5f\",\"gridcolor\":\"white\",\"linecolor\":\"white\",\"minorgridcolor\":\"white\",\"startlinecolor\":\"#2a3f5f\"},\"baxis\":{\"endlinecolor\":\"#2a3f5f\",\"gridcolor\":\"white\",\"linecolor\":\"white\",\"minorgridcolor\":\"white\",\"startlinecolor\":\"#2a3f5f\"},\"type\":\"carpet\"}],\"table\":[{\"cells\":{\"fill\":{\"color\":\"#EBF0F8\"},\"line\":{\"color\":\"white\"}},\"header\":{\"fill\":{\"color\":\"#C8D4E3\"},\"line\":{\"color\":\"white\"}},\"type\":\"table\"}],\"barpolar\":[{\"marker\":{\"line\":{\"color\":\"#E5ECF6\",\"width\":0.5},\"pattern\":{\"fillmode\":\"overlay\",\"size\":10,\"solidity\":0.2}},\"type\":\"barpolar\"}],\"pie\":[{\"automargin\":true,\"type\":\"pie\"}]},\"layout\":{\"autotypenumbers\":\"strict\",\"colorway\":[\"#636efa\",\"#EF553B\",\"#00cc96\",\"#ab63fa\",\"#FFA15A\",\"#19d3f3\",\"#FF6692\",\"#B6E880\",\"#FF97FF\",\"#FECB52\"],\"font\":{\"color\":\"#2a3f5f\"},\"hovermode\":\"closest\",\"hoverlabel\":{\"align\":\"left\"},\"paper_bgcolor\":\"white\",\"plot_bgcolor\":\"#E5ECF6\",\"polar\":{\"bgcolor\":\"#E5ECF6\",\"angularaxis\":{\"gridcolor\":\"white\",\"linecolor\":\"white\",\"ticks\":\"\"},\"radialaxis\":{\"gridcolor\":\"white\",\"linecolor\":\"white\",\"ticks\":\"\"}},\"ternary\":{\"bgcolor\":\"#E5ECF6\",\"aaxis\":{\"gridcolor\":\"white\",\"linecolor\":\"white\",\"ticks\":\"\"},\"baxis\":{\"gridcolor\":\"white\",\"linecolor\":\"white\",\"ticks\":\"\"},\"caxis\":{\"gridcolor\":\"white\",\"linecolor\":\"white\",\"ticks\":\"\"}},\"coloraxis\":{\"colorbar\":{\"outlinewidth\":0,\"ticks\":\"\"}},\"colorscale\":{\"sequential\":[[0.0,\"#0d0887\"],[0.1111111111111111,\"#46039f\"],[0.2222222222222222,\"#7201a8\"],[0.3333333333333333,\"#9c179e\"],[0.4444444444444444,\"#bd3786\"],[0.5555555555555556,\"#d8576b\"],[0.6666666666666666,\"#ed7953\"],[0.7777777777777778,\"#fb9f3a\"],[0.8888888888888888,\"#fdca26\"],[1.0,\"#f0f921\"]],\"sequentialminus\":[[0.0,\"#0d0887\"],[0.1111111111111111,\"#46039f\"],[0.2222222222222222,\"#7201a8\"],[0.3333333333333333,\"#9c179e\"],[0.4444444444444444,\"#bd3786\"],[0.5555555555555556,\"#d8576b\"],[0.6666666666666666,\"#ed7953\"],[0.7777777777777778,\"#fb9f3a\"],[0.8888888888888888,\"#fdca26\"],[1.0,\"#f0f921\"]],\"diverging\":[[0,\"#8e0152\"],[0.1,\"#c51b7d\"],[0.2,\"#de77ae\"],[0.3,\"#f1b6da\"],[0.4,\"#fde0ef\"],[0.5,\"#f7f7f7\"],[0.6,\"#e6f5d0\"],[0.7,\"#b8e186\"],[0.8,\"#7fbc41\"],[0.9,\"#4d9221\"],[1,\"#276419\"]]},\"xaxis\":{\"gridcolor\":\"white\",\"linecolor\":\"white\",\"ticks\":\"\",\"title\":{\"standoff\":15},\"zerolinecolor\":\"white\",\"automargin\":true,\"zerolinewidth\":2},\"yaxis\":{\"gridcolor\":\"white\",\"linecolor\":\"white\",\"ticks\":\"\",\"title\":{\"standoff\":15},\"zerolinecolor\":\"white\",\"automargin\":true,\"zerolinewidth\":2},\"scene\":{\"xaxis\":{\"backgroundcolor\":\"#E5ECF6\",\"gridcolor\":\"white\",\"linecolor\":\"white\",\"showbackground\":true,\"ticks\":\"\",\"zerolinecolor\":\"white\",\"gridwidth\":2},\"yaxis\":{\"backgroundcolor\":\"#E5ECF6\",\"gridcolor\":\"white\",\"linecolor\":\"white\",\"showbackground\":true,\"ticks\":\"\",\"zerolinecolor\":\"white\",\"gridwidth\":2},\"zaxis\":{\"backgroundcolor\":\"#E5ECF6\",\"gridcolor\":\"white\",\"linecolor\":\"white\",\"showbackground\":true,\"ticks\":\"\",\"zerolinecolor\":\"white\",\"gridwidth\":2}},\"shapedefaults\":{\"line\":{\"color\":\"#2a3f5f\"}},\"annotationdefaults\":{\"arrowcolor\":\"#2a3f5f\",\"arrowhead\":0,\"arrowwidth\":1},\"geo\":{\"bgcolor\":\"white\",\"landcolor\":\"#E5ECF6\",\"subunitcolor\":\"white\",\"showland\":true,\"showlakes\":true,\"lakecolor\":\"white\"},\"title\":{\"x\":0.05},\"mapbox\":{\"style\":\"light\"}}},\"scene\":{\"domain\":{\"x\":[0.0,1.0],\"y\":[0.0,1.0]},\"xaxis\":{\"title\":{\"text\":\"x\"}},\"yaxis\":{\"title\":{\"text\":\"y\"}},\"zaxis\":{\"title\":{\"text\":\"z\"}}},\"legend\":{\"title\":{\"text\":\"category\"},\"tracegroupgap\":0},\"title\":{\"text\":\"3D Scatter Plot Example\"}},                        {\"responsive\": true}                    ).then(function(){\n",
              "                            \n",
              "var gd = document.getElementById('a8949baf-5496-4257-a329-40cd980171d4');\n",
              "var x = new MutationObserver(function (mutations, observer) {{\n",
              "        var display = window.getComputedStyle(gd).display;\n",
              "        if (!display || display === 'none') {{\n",
              "            console.log([gd, 'removed!']);\n",
              "            Plotly.purge(gd);\n",
              "            observer.disconnect();\n",
              "        }}\n",
              "}});\n",
              "\n",
              "// Listen for the removal of the full notebook cells\n",
              "var notebookContainer = gd.closest('#notebook-container');\n",
              "if (notebookContainer) {{\n",
              "    x.observe(notebookContainer, {childList: true});\n",
              "}}\n",
              "\n",
              "// Listen for the clearing of the current output cell\n",
              "var outputEl = gd.closest('.output');\n",
              "if (outputEl) {{\n",
              "    x.observe(outputEl, {childList: true});\n",
              "}}\n",
              "\n",
              "                        })                };                            </script>        </div>\n",
              "</body>\n",
              "</html>"
            ]
          },
          "metadata": {}
        }
      ]
    }
  ]
}